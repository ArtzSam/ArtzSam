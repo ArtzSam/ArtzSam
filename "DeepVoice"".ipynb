{
  "nbformat": 4,
  "nbformat_minor": 5,
  "metadata": {
    "colab": {
      "name": "\"DeepVoice\"\"",
      "provenance": [],
      "collapsed_sections": []
    },
    "kernelspec": {
      "display_name": "Python 3",
      "language": "python",
      "name": "python3"
    },
    "language_info": {
      "codemirror_mode": {
        "name": "ipython",
        "version": 3
      },
      "file_extension": ".py",
      "mimetype": "text/x-python",
      "name": "python",
      "nbconvert_exporter": "python",
      "pygments_lexer": "ipython3",
      "version": "3.8.8"
    },
    "toc": {
      "base_numbering": 1,
      "nav_menu": {},
      "number_sections": true,
      "sideBar": true,
      "skip_h1_title": false,
      "title_cell": "Table of Contents",
      "title_sidebar": "Contents",
      "toc_cell": false,
      "toc_position": {},
      "toc_section_display": true,
      "toc_window_display": false
    },
    "widgets": {
      "application/vnd.jupyter.widget-state+json": {
        "661f071ed3c54e079e64f5c0d9f93a42": {
          "model_module": "@jupyter-widgets/controls",
          "model_name": "HBoxModel",
          "model_module_version": "1.5.0",
          "state": {
            "_view_name": "HBoxView",
            "_dom_classes": [],
            "_model_name": "HBoxModel",
            "_view_module": "@jupyter-widgets/controls",
            "_model_module_version": "1.5.0",
            "_view_count": null,
            "_view_module_version": "1.5.0",
            "box_style": "",
            "layout": "IPY_MODEL_8cd5f90d2e41469ca555a69ee051dcba",
            "_model_module": "@jupyter-widgets/controls",
            "children": [
              "IPY_MODEL_6a50fad654f344bdbc1f4c9b2a66e2f6",
              "IPY_MODEL_75588c4e2040414399e7817239eb90dd",
              "IPY_MODEL_45a9c835d8674e6a94187e94f491c951"
            ]
          }
        },
        "8cd5f90d2e41469ca555a69ee051dcba": {
          "model_module": "@jupyter-widgets/base",
          "model_name": "LayoutModel",
          "model_module_version": "1.2.0",
          "state": {
            "_view_name": "LayoutView",
            "grid_template_rows": null,
            "right": null,
            "justify_content": null,
            "_view_module": "@jupyter-widgets/base",
            "overflow": null,
            "_model_module_version": "1.2.0",
            "_view_count": null,
            "flex_flow": null,
            "width": null,
            "min_width": null,
            "border": null,
            "align_items": null,
            "bottom": null,
            "_model_module": "@jupyter-widgets/base",
            "top": null,
            "grid_column": null,
            "overflow_y": null,
            "overflow_x": null,
            "grid_auto_flow": null,
            "grid_area": null,
            "grid_template_columns": null,
            "flex": null,
            "_model_name": "LayoutModel",
            "justify_items": null,
            "grid_row": null,
            "max_height": null,
            "align_content": null,
            "visibility": null,
            "align_self": null,
            "height": null,
            "min_height": null,
            "padding": null,
            "grid_auto_rows": null,
            "grid_gap": null,
            "max_width": null,
            "order": null,
            "_view_module_version": "1.2.0",
            "grid_template_areas": null,
            "object_position": null,
            "object_fit": null,
            "grid_auto_columns": null,
            "margin": null,
            "display": null,
            "left": null
          }
        },
        "6a50fad654f344bdbc1f4c9b2a66e2f6": {
          "model_module": "@jupyter-widgets/controls",
          "model_name": "HTMLModel",
          "model_module_version": "1.5.0",
          "state": {
            "_view_name": "HTMLView",
            "style": "IPY_MODEL_628e4692d3e04390b4c551dae7a64bbb",
            "_dom_classes": [],
            "description": "",
            "_model_name": "HTMLModel",
            "placeholder": "​",
            "_view_module": "@jupyter-widgets/controls",
            "_model_module_version": "1.5.0",
            "value": "100%",
            "_view_count": null,
            "_view_module_version": "1.5.0",
            "description_tooltip": null,
            "_model_module": "@jupyter-widgets/controls",
            "layout": "IPY_MODEL_49eeb81d171b4c1e9616f31c8e7c6a51"
          }
        },
        "75588c4e2040414399e7817239eb90dd": {
          "model_module": "@jupyter-widgets/controls",
          "model_name": "FloatProgressModel",
          "model_module_version": "1.5.0",
          "state": {
            "_view_name": "ProgressView",
            "style": "IPY_MODEL_056e042f08c742919b7a34379be1b705",
            "_dom_classes": [],
            "description": "",
            "_model_name": "FloatProgressModel",
            "bar_style": "success",
            "max": 142261880,
            "_view_module": "@jupyter-widgets/controls",
            "_model_module_version": "1.5.0",
            "value": 142261880,
            "_view_count": null,
            "_view_module_version": "1.5.0",
            "orientation": "horizontal",
            "min": 0,
            "description_tooltip": null,
            "_model_module": "@jupyter-widgets/controls",
            "layout": "IPY_MODEL_f5ea3ec7004d4e0e88e44700ec041b09"
          }
        },
        "45a9c835d8674e6a94187e94f491c951": {
          "model_module": "@jupyter-widgets/controls",
          "model_name": "HTMLModel",
          "model_module_version": "1.5.0",
          "state": {
            "_view_name": "HTMLView",
            "style": "IPY_MODEL_8c517d5003e54558862c7fbd3c0868f2",
            "_dom_classes": [],
            "description": "",
            "_model_name": "HTMLModel",
            "placeholder": "​",
            "_view_module": "@jupyter-widgets/controls",
            "_model_module_version": "1.5.0",
            "value": " 136M/136M [00:34&lt;00:00, 4.21MB/s]",
            "_view_count": null,
            "_view_module_version": "1.5.0",
            "description_tooltip": null,
            "_model_module": "@jupyter-widgets/controls",
            "layout": "IPY_MODEL_5183c3b99e2a40ff91099e257d73da07"
          }
        },
        "628e4692d3e04390b4c551dae7a64bbb": {
          "model_module": "@jupyter-widgets/controls",
          "model_name": "DescriptionStyleModel",
          "model_module_version": "1.5.0",
          "state": {
            "_view_name": "StyleView",
            "_model_name": "DescriptionStyleModel",
            "description_width": "",
            "_view_module": "@jupyter-widgets/base",
            "_model_module_version": "1.5.0",
            "_view_count": null,
            "_view_module_version": "1.2.0",
            "_model_module": "@jupyter-widgets/controls"
          }
        },
        "49eeb81d171b4c1e9616f31c8e7c6a51": {
          "model_module": "@jupyter-widgets/base",
          "model_name": "LayoutModel",
          "model_module_version": "1.2.0",
          "state": {
            "_view_name": "LayoutView",
            "grid_template_rows": null,
            "right": null,
            "justify_content": null,
            "_view_module": "@jupyter-widgets/base",
            "overflow": null,
            "_model_module_version": "1.2.0",
            "_view_count": null,
            "flex_flow": null,
            "width": null,
            "min_width": null,
            "border": null,
            "align_items": null,
            "bottom": null,
            "_model_module": "@jupyter-widgets/base",
            "top": null,
            "grid_column": null,
            "overflow_y": null,
            "overflow_x": null,
            "grid_auto_flow": null,
            "grid_area": null,
            "grid_template_columns": null,
            "flex": null,
            "_model_name": "LayoutModel",
            "justify_items": null,
            "grid_row": null,
            "max_height": null,
            "align_content": null,
            "visibility": null,
            "align_self": null,
            "height": null,
            "min_height": null,
            "padding": null,
            "grid_auto_rows": null,
            "grid_gap": null,
            "max_width": null,
            "order": null,
            "_view_module_version": "1.2.0",
            "grid_template_areas": null,
            "object_position": null,
            "object_fit": null,
            "grid_auto_columns": null,
            "margin": null,
            "display": null,
            "left": null
          }
        },
        "056e042f08c742919b7a34379be1b705": {
          "model_module": "@jupyter-widgets/controls",
          "model_name": "ProgressStyleModel",
          "model_module_version": "1.5.0",
          "state": {
            "_view_name": "StyleView",
            "_model_name": "ProgressStyleModel",
            "description_width": "",
            "_view_module": "@jupyter-widgets/base",
            "_model_module_version": "1.5.0",
            "_view_count": null,
            "_view_module_version": "1.2.0",
            "bar_color": null,
            "_model_module": "@jupyter-widgets/controls"
          }
        },
        "f5ea3ec7004d4e0e88e44700ec041b09": {
          "model_module": "@jupyter-widgets/base",
          "model_name": "LayoutModel",
          "model_module_version": "1.2.0",
          "state": {
            "_view_name": "LayoutView",
            "grid_template_rows": null,
            "right": null,
            "justify_content": null,
            "_view_module": "@jupyter-widgets/base",
            "overflow": null,
            "_model_module_version": "1.2.0",
            "_view_count": null,
            "flex_flow": null,
            "width": null,
            "min_width": null,
            "border": null,
            "align_items": null,
            "bottom": null,
            "_model_module": "@jupyter-widgets/base",
            "top": null,
            "grid_column": null,
            "overflow_y": null,
            "overflow_x": null,
            "grid_auto_flow": null,
            "grid_area": null,
            "grid_template_columns": null,
            "flex": null,
            "_model_name": "LayoutModel",
            "justify_items": null,
            "grid_row": null,
            "max_height": null,
            "align_content": null,
            "visibility": null,
            "align_self": null,
            "height": null,
            "min_height": null,
            "padding": null,
            "grid_auto_rows": null,
            "grid_gap": null,
            "max_width": null,
            "order": null,
            "_view_module_version": "1.2.0",
            "grid_template_areas": null,
            "object_position": null,
            "object_fit": null,
            "grid_auto_columns": null,
            "margin": null,
            "display": null,
            "left": null
          }
        },
        "8c517d5003e54558862c7fbd3c0868f2": {
          "model_module": "@jupyter-widgets/controls",
          "model_name": "DescriptionStyleModel",
          "model_module_version": "1.5.0",
          "state": {
            "_view_name": "StyleView",
            "_model_name": "DescriptionStyleModel",
            "description_width": "",
            "_view_module": "@jupyter-widgets/base",
            "_model_module_version": "1.5.0",
            "_view_count": null,
            "_view_module_version": "1.2.0",
            "_model_module": "@jupyter-widgets/controls"
          }
        },
        "5183c3b99e2a40ff91099e257d73da07": {
          "model_module": "@jupyter-widgets/base",
          "model_name": "LayoutModel",
          "model_module_version": "1.2.0",
          "state": {
            "_view_name": "LayoutView",
            "grid_template_rows": null,
            "right": null,
            "justify_content": null,
            "_view_module": "@jupyter-widgets/base",
            "overflow": null,
            "_model_module_version": "1.2.0",
            "_view_count": null,
            "flex_flow": null,
            "width": null,
            "min_width": null,
            "border": null,
            "align_items": null,
            "bottom": null,
            "_model_module": "@jupyter-widgets/base",
            "top": null,
            "grid_column": null,
            "overflow_y": null,
            "overflow_x": null,
            "grid_auto_flow": null,
            "grid_area": null,
            "grid_template_columns": null,
            "flex": null,
            "_model_name": "LayoutModel",
            "justify_items": null,
            "grid_row": null,
            "max_height": null,
            "align_content": null,
            "visibility": null,
            "align_self": null,
            "height": null,
            "min_height": null,
            "padding": null,
            "grid_auto_rows": null,
            "grid_gap": null,
            "max_width": null,
            "order": null,
            "_view_module_version": "1.2.0",
            "grid_template_areas": null,
            "object_position": null,
            "object_fit": null,
            "grid_auto_columns": null,
            "margin": null,
            "display": null,
            "left": null
          }
        }
      }
    }
  },
  "cells": [
    {
      "cell_type": "markdown",
      "metadata": {
        "id": "previous-bacon"
      },
      "source": [
        "# Dependencies and Imports"
      ],
      "id": "previous-bacon"
    },
    {
      "cell_type": "code",
      "metadata": {
        "cellView": "form",
        "id": "complicated-receiver",
        "colab": {
          "base_uri": "https://localhost:8080/"
        },
        "outputId": "da0c1618-14f6-4d87-8a2e-ce8d630cbd6b"
      },
      "source": [
        "#@title Install dependencies\n",
        "\n",
        "!pip install -q torchaudio omegaconf\n",
        "\n",
        "import torch\n",
        "from pprint import pprint\n",
        "from omegaconf import OmegaConf\n",
        "from IPython.display import Audio, display\n",
        "\n",
        "torch.hub.download_url_to_file('https://raw.githubusercontent.com/snakers4/silero-models/master/models.yml',\n",
        "                               'latest_silero_models.yml',\n",
        "                               progress=False)\n",
        "models = OmegaConf.load('latest_silero_models.yml')"
      ],
      "id": "complicated-receiver",
      "execution_count": null,
      "outputs": [
        {
          "output_type": "stream",
          "name": "stdout",
          "text": [
            "\u001b[K     |████████████████████████████████| 1.9 MB 4.3 MB/s \n",
            "\u001b[K     |████████████████████████████████| 74 kB 3.2 MB/s \n",
            "\u001b[K     |████████████████████████████████| 636 kB 52.7 MB/s \n",
            "\u001b[K     |████████████████████████████████| 112 kB 53.6 MB/s \n",
            "\u001b[?25h  Building wheel for antlr4-python3-runtime (setup.py) ... \u001b[?25l\u001b[?25hdone\n"
          ]
        }
      ]
    },
    {
      "cell_type": "markdown",
      "metadata": {
        "id": "nasty-intention"
      },
      "source": [
        "# Demo"
      ],
      "id": "nasty-intention"
    },
    {
      "cell_type": "code",
      "metadata": {
        "ExecuteTime": {
          "end_time": "2021-03-29T06:44:34.516921Z",
          "start_time": "2021-03-29T06:44:34.510879Z"
        },
        "id": "pacific-injury",
        "colab": {
          "base_uri": "https://localhost:8080/"
        },
        "outputId": "9f1041b3-c718-4308-d91e-52407a1745f3"
      },
      "source": [
        "# see latest avaiable models\n",
        "available_languages = list(models.tts_models.keys())\n",
        "print(f'Available languages {available_languages}')\n",
        "\n",
        "for lang in available_languages:\n",
        "    speakers = list(models.tts_models.get(lang).keys())\n",
        "    print(f'Available speakers for {lang}: {speakers}')"
      ],
      "id": "pacific-injury",
      "execution_count": null,
      "outputs": [
        {
          "output_type": "stream",
          "name": "stdout",
          "text": [
            "Available languages ['ru', 'en', 'de', 'es', 'fr', 'ba', 'xal', 'tt', 'uz', 'multi']\n",
            "Available speakers for ru: ['aidar_v2', 'aidar_8khz', 'aidar_16khz', 'baya_v2', 'baya_8khz', 'baya_16khz', 'irina_v2', 'irina_8khz', 'irina_16khz', 'kseniya_v2', 'kseniya_8khz', 'kseniya_16khz', 'natasha_v2', 'natasha_8khz', 'natasha_16khz', 'ruslan_v2', 'ruslan_8khz', 'ruslan_16khz']\n",
            "Available speakers for en: ['lj_v2', 'lj_8khz', 'lj_16khz']\n",
            "Available speakers for de: ['thorsten_v2', 'thorsten_8khz', 'thorsten_16khz']\n",
            "Available speakers for es: ['tux_v2', 'tux_8khz', 'tux_16khz']\n",
            "Available speakers for fr: ['gilles_v2', 'gilles_8khz', 'gilles_16khz']\n",
            "Available speakers for ba: ['aigul_v2']\n",
            "Available speakers for xal: ['erdni_v2']\n",
            "Available speakers for tt: ['dilyara_v2']\n",
            "Available speakers for uz: ['dilnavoz_v2']\n",
            "Available speakers for multi: ['multi_v2']\n"
          ]
        }
      ]
    },
    {
      "cell_type": "code",
      "metadata": {
        "ExecuteTime": {
          "end_time": "2021-03-29T06:46:39.993648Z",
          "start_time": "2021-03-29T06:46:39.052349Z"
        },
        "id": "stupid-naples",
        "colab": {
          "base_uri": "https://localhost:8080/",
          "height": 66,
          "referenced_widgets": [
            "661f071ed3c54e079e64f5c0d9f93a42",
            "8cd5f90d2e41469ca555a69ee051dcba",
            "6a50fad654f344bdbc1f4c9b2a66e2f6",
            "75588c4e2040414399e7817239eb90dd",
            "45a9c835d8674e6a94187e94f491c951",
            "628e4692d3e04390b4c551dae7a64bbb",
            "49eeb81d171b4c1e9616f31c8e7c6a51",
            "056e042f08c742919b7a34379be1b705",
            "f5ea3ec7004d4e0e88e44700ec041b09",
            "8c517d5003e54558862c7fbd3c0868f2",
            "5183c3b99e2a40ff91099e257d73da07"
          ]
        },
        "outputId": "127ad851-c54d-4101-94be-1a43493c8802"
      },
      "source": [
        "import torch\n",
        "\n",
        "language = 'ru'\n",
        "speaker = 'baya_16khz'\n",
        "device = torch.device('cpu')\n",
        "model, symbols, sample_rate, example_text, apply_tts = torch.hub.load(repo_or_dir='snakers4/silero-models',\n",
        "                                                                      model='silero_tts',\n",
        "                                                                      language=language,\n",
        "                                                                      speaker=speaker)\n",
        "model = model.to(device)  # gpu or cpu"
      ],
      "id": "stupid-naples",
      "execution_count": null,
      "outputs": [
        {
          "output_type": "stream",
          "name": "stderr",
          "text": [
            "Downloading: \"https://github.com/snakers4/silero-models/archive/master.zip\" to /root/.cache/torch/hub/master.zip\n"
          ]
        },
        {
          "output_type": "display_data",
          "data": {
            "application/vnd.jupyter.widget-view+json": {
              "model_id": "661f071ed3c54e079e64f5c0d9f93a42",
              "version_minor": 0,
              "version_major": 2
            },
            "text/plain": [
              "  0%|          | 0.00/136M [00:00<?, ?B/s]"
            ]
          },
          "metadata": {}
        }
      ]
    },
    {
      "cell_type": "code",
      "metadata": {
        "id": "indirect-berry",
        "colab": {
          "base_uri": "https://localhost:8080/",
          "height": 92
        },
        "outputId": "cdb90288-aec1-4efc-ec7d-fe4d69cc71e1"
      },
      "source": [
        "audio = apply_tts(texts=[\"Artz_Sam!\"],\n",
        "                  model=model,\n",
        "                  sample_rate=sample_rate,\n",
        "                  symbols=symbols,\n",
        "                  device=device)\n",
        "\n",
        "print(example_text)\n",
        "display(Audio(audio[0], rate=sample_rate))"
      ],
      "id": "indirect-berry",
      "execution_count": null,
      "outputs": [
        {
          "output_type": "stream",
          "name": "stdout",
          "text": [
            "В н+едрах т+ундры в+ыдры в г+етрах т+ырят в в+ёдра +ядра к+едров.\n"
          ]
        },
        {
          "output_type": "display_data",
          "data": {
            "text/html": [
              "\n",
              "                <audio controls=\"controls\" >\n",
              "                    <source src=\"data:audio/wav;base64,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\" type=\"audio/wav\" />\n",
              "                    Your browser does not support the audio element.\n",
              "                </audio>\n",
              "              "
            ],
            "text/plain": [
              "<IPython.lib.display.Audio object>"
            ]
          },
          "metadata": {}
        }
      ]
    },
    {
      "cell_type": "markdown",
      "metadata": {
        "id": "n-IHQN_5KA_A"
      },
      "source": [
        "## Enhance synthesis with logmmse"
      ],
      "id": "n-IHQN_5KA_A"
    },
    {
      "cell_type": "code",
      "metadata": {
        "id": "ivNvVXhLKbmA"
      },
      "source": [
        "!pip install -q logmmse"
      ],
      "id": "ivNvVXhLKbmA",
      "execution_count": null,
      "outputs": []
    },
    {
      "cell_type": "markdown",
      "metadata": {
        "id": "pLMPBH_CMAzh"
      },
      "source": [
        "You can try to enhance synthesized audio with logmmse algorithm, though it could demand parameters tuning for the particular speaker."
      ],
      "id": "pLMPBH_CMAzh"
    },
    {
      "cell_type": "code",
      "metadata": {
        "id": "6b048VLuzgDF",
        "colab": {
          "base_uri": "https://localhost:8080/",
          "height": 75
        },
        "outputId": "58f59d76-99b5-4323-dac1-9e00233402dd"
      },
      "source": [
        "import numpy as np\n",
        "from logmmse import logmmse\n",
        "\n",
        "enhanced = logmmse(np.array(audio[0]), sample_rate, output_file=None, initial_noise=1, window_size=160, noise_threshold=0.15)\n",
        "display(Audio(enhanced, rate=sample_rate))"
      ],
      "id": "6b048VLuzgDF",
      "execution_count": null,
      "outputs": [
        {
          "output_type": "display_data",
          "data": {
            "text/html": [
              "\n",
              "                <audio controls=\"controls\" >\n",
              "                    <source src=\"data:audio/wav;base64,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\" type=\"audio/wav\" />\n",
              "                    Your browser does not support the audio element.\n",
              "                </audio>\n",
              "              "
            ],
            "text/plain": [
              "<IPython.lib.display.Audio object>"
            ]
          },
          "metadata": {}
        }
      ]
    }
  ]
}